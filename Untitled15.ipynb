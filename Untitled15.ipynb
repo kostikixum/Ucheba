{
  "nbformat": 4,
  "nbformat_minor": 0,
  "metadata": {
    "colab": {
      "provenance": [],
      "authorship_tag": "ABX9TyOypO6HprkVeA2AJX74GzuS",
      "include_colab_link": true
    },
    "kernelspec": {
      "name": "python3",
      "display_name": "Python 3"
    },
    "language_info": {
      "name": "python"
    }
  },
  "cells": [
    {
      "cell_type": "markdown",
      "metadata": {
        "id": "view-in-github",
        "colab_type": "text"
      },
      "source": [
        "<a href=\"https://colab.research.google.com/github/kostikixum/Ucheba/blob/main/Untitled15.ipynb\" target=\"_parent\"><img src=\"https://colab.research.google.com/assets/colab-badge.svg\" alt=\"Open In Colab\"/></a>"
      ]
    },
    {
      "cell_type": "code",
      "execution_count": 9,
      "metadata": {
        "id": "rnZcbeisE6gr"
      },
      "outputs": [],
      "source": [
        "import pandas as pd\n",
        "import numpy as np\n",
        "from statsmodels.stats.weightstats import _tconfint_generic as t_stat\n",
        "from scipy.stats import norm\n",
        "import math"
      ]
    },
    {
      "cell_type": "markdown",
      "source": [
        "##Задача 1\n",
        "Известно, что генеральная совокупность распределена нормально со средним квадратическим отклонением, равным 16. Найти доверительный интервал для оценки математического ожидания a с надежностью 0.95, если выборочная средняя M = 80, а объем выборки n = 256."
      ],
      "metadata": {
        "id": "vR4lqgWUFldh"
      }
    },
    {
      "cell_type": "code",
      "source": [
        "M_s=np.sqrt(16)/256\n",
        "t_stat(80, M_s,256 - 1,0.05,'two-sided')"
      ],
      "metadata": {
        "colab": {
          "base_uri": "https://localhost:8080/"
        },
        "id": "YBT70GJ1F1Ra",
        "outputId": "028e401e-77be-4159-8ba1-398d347553ed"
      },
      "execution_count": 10,
      "outputs": [
        {
          "output_type": "execute_result",
          "data": {
            "text/plain": [
              "(79.96922952234611, 80.03077047765389)"
            ]
          },
          "metadata": {},
          "execution_count": 10
        }
      ]
    },
    {
      "cell_type": "markdown",
      "source": [
        "##Задача 2\n",
        "В результате 10 независимых измерений некоторой величины X, выполненных с одинаковой точностью, получены опытные данные: 6.9, 6.1, 6.2, 6.8, 7.5, 6.3, 6.4, 6.9, 6.7, 6.1 Предполагая, что результаты измерений подчинены нормальному закону распределения вероятностей, оценить истинное значение величины X при помощи доверительного интервала, покрывающего это значение с доверительной вероятностью 0,95."
      ],
      "metadata": {
        "id": "dTnvCFVzHOZs"
      }
    },
    {
      "cell_type": "code",
      "source": [
        "X = np.array([6.9, 6.1, 6.2, 6.8, 7.5, 6.3, 6.4, 6.9, 6.7, 6.1])\n",
        "mean_X = X.mean()\n",
        "std_X = X.std(ddof=1)\n",
        "M_sx = std_X / (np.sqrt(len(X)))\n",
        "t_stat(mean_X, M_sx,len(X) - 1, 0.05, 'two-sided')"
      ],
      "metadata": {
        "colab": {
          "base_uri": "https://localhost:8080/"
        },
        "id": "jPqxIk4LHZie",
        "outputId": "30e8fa0a-7d00-4dba-a200-ba58b258b9a4"
      },
      "execution_count": 13,
      "outputs": [
        {
          "output_type": "execute_result",
          "data": {
            "text/plain": [
              "(6.267515851415713, 6.912484148584288)"
            ]
          },
          "metadata": {},
          "execution_count": 13
        }
      ]
    },
    {
      "cell_type": "markdown",
      "source": [
        "##Задача 3\n",
        " Рост дочерей 175, 167, 154, 174, 178, 148, 160, 167, 169, 170 Рост матерей  178, 165, 165, 173, 168, 155, 160, 164, 178, 175 Используя эти данные построить 95% доверительный интервал для разности среднего роста родителей и детей."
      ],
      "metadata": {
        "id": "CobrTfVxH-PY"
      }
    },
    {
      "cell_type": "code",
      "source": [
        "X = np.array([175, 167, 154, 174, 178, 148, 160, 167, 169, 170])\n",
        "Y = np.array([178, 165, 165, 173, 168, 155, 160, 164, 178, 175])\n",
        "mean_X = X.mean()\n",
        "mean_Y = Y.mean()\n",
        "mean_s=mean_X-mean_Y\n",
        "std_X = X.std(ddof=1)\n",
        "std_Y = Y.std(ddof=1)\n",
        "std_s=std_X-std_Y\n",
        "M_sx = std_s / (np.sqrt(len(X)))\n",
        "t_stat(mean_s, M_sx,len(X) - 1, 0.05, 'two-sided')"
      ],
      "metadata": {
        "colab": {
          "base_uri": "https://localhost:8080/"
        },
        "id": "rBAYIrJbIEGL",
        "outputId": "ff5b6050-030e-4d26-b0a8-1f234187ddfb"
      },
      "execution_count": 15,
      "outputs": [
        {
          "output_type": "execute_result",
          "data": {
            "text/plain": [
              "(-3.180822704336282, -0.6191772956637294)"
            ]
          },
          "metadata": {},
          "execution_count": 15
        }
      ]
    }
  ]
}